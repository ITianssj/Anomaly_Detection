{
 "cells": [
  {
   "cell_type": "markdown",
   "id": "9c0b07af",
   "metadata": {},
   "source": [
    "# <center>Anomaly Detection</center>"
   ]
  },
  {
   "cell_type": "code",
   "execution_count": 1,
   "id": "04ea6f08",
   "metadata": {},
   "outputs": [],
   "source": [
    "#Import all necessary libraries   \n",
    "import tensorflow\n",
    "import keras \n",
    "from keras import optimizers, regularizers\n",
    "from keras.models import Sequential, Model\n",
    "from keras.layers import Dense,Input,Dropout,Embedding,LSTM\n",
    "from keras.optimizers import RMSprop,adam,Nadam\n",
    "from keras.preprocessing import sequence\n",
    "from keras.callbacks import TensorBoard\n",
    "\n",
    "import sklearn\n",
    "from sklearn.preprocessing import StandardScaler\n",
    "from sklearn.model_selection import train_test_split\n",
    "from sklearn.metrics import confusion_matrix,roc_auc_score,classification_report\n",
    "from sklearn.preprocessing import MinMaxScaler\n",
    "\n",
    "import sys\n",
    "import seaborn as sns\n",
    "import pandas as pd\n",
    "import numpy as np\n",
    "import matplotlib.pyplot as plt\n",
    "import matplotlib.gridspec as gridspec\n",
    "%matplotlib inline\n"
   ]
  },
  {
   "cell_type": "markdown",
   "id": "2d1fe578",
   "metadata": {},
   "source": [
    "## Visualization Class\n",
    "### Overview\n",
    "- The Visualization class is designed to assist in visualizing the results of anomaly detection models. It provides methods for creating visualizations of confusion matrices, anomaly detection results, and error plots.\n",
    "### Class Members\n",
    "#### labels\n",
    "#### Description: A list of labels used for classification, typically containing \"Normal\" and \"Anomaly\" labels.\n",
    "##### Type: List of strings\n",
    "- draw_confusion_matrix(self, y, ypred)\n",
    "##### Description: Generates a heatmap-based confusion matrix to visualize the performance of a classification model.\n",
    "##### Parameters:\n",
    "- y (array-like): True labels.\n",
    "- ypred (array-like): Predicted labels.\n",
    "### draw_anomaly(self, y, error, threshold)\n",
    "##### Description: Plots data points, highlighting anomalies and normal instances based on a specified threshold.\n",
    "##### Parameters:\n",
    "- y (array-like): True labels (1 for anomalies, 0 for normal instances).\n",
    "- error (array-like): Reconstruction errors or anomaly scores.\n",
    "- threshold (float): Threshold for classifying anomalies.\n",
    "### draw_error(self, error, threshold)\n",
    "##### Description: Visualizes reconstruction errors alongside a user-defined threshold for anomaly detection.\n",
    "##### Parameters:\n",
    "- error (array-like): Reconstruction errors or anomaly scores.\n",
    "- threshold (float): Threshold for classifying anomalies.\n"
   ]
  },
  {
   "cell_type": "code",
   "execution_count": 2,
   "id": "a21fa713",
   "metadata": {},
   "outputs": [],
   "source": [
    "class Visualization:\n",
    "    labels = [\"Normal\", \"Anomaly\"]\n",
    "\n",
    "    def draw_confusion_matrix(self, y, ypred):\n",
    "        matrix = confusion_matrix(y, ypred)\n",
    "\n",
    "        plt.figure(figsize=(10, 8))\n",
    "        colors=[ \"orange\",\"green\"]\n",
    "        sns.heatmap(matrix, xticklabels=self.labels, yticklabels=self.labels, cmap=colors, annot=True, fmt=\"d\")\n",
    "        plt.title(\"Confusion Matrix\")\n",
    "        plt.ylabel('Actual')\n",
    "        plt.xlabel('Predicted')\n",
    "        plt.show()\n",
    "\n",
    "\n",
    "    def draw_anomaly(self, y, error, threshold):\n",
    "        groupsDF = pd.DataFrame({'error': error,\n",
    "                                 'true': y}).groupby('true')\n",
    "\n",
    "        figure, axes = plt.subplots(figsize=(12, 8))\n",
    "        for name, group in groupsDF:\n",
    "            axes.plot(group.index, group.error, marker='x' if name == 1 else 'o', linestyle='',color='r' if name == 1 else 'g', label=\"Anomaly\" if name == 1 else \"Normal\")\n",
    "        axes.hlines(threshold, axes.get_xlim()[0], axes.get_xlim()[1], colors=\"b\", zorder=100, label='Threshold')\n",
    "        axes.legend()\n",
    "        \n",
    "    def draw_error(self, error, threshold):\n",
    "            plt.plot(error, marker='o', ms=3.5, linestyle='',label='Point')\n",
    "\n",
    "            plt.hlines(threshold, xmin=0, xmax=len(error)-1, colors=\"b\", zorder=100, label='Threshold')\n",
    "            plt.legend()\n",
    "            plt.title(\"Reconstruction error\")\n",
    "            plt.ylabel(\"Error\")\n",
    "            plt.xlabel(\"Data\")\n",
    "            plt.show()"
   ]
  },
  {
   "cell_type": "code",
   "execution_count": 3,
   "id": "cc5c5abd",
   "metadata": {},
   "outputs": [
    {
     "data": {
      "text/html": [
       "<div>\n",
       "<style scoped>\n",
       "    .dataframe tbody tr th:only-of-type {\n",
       "        vertical-align: middle;\n",
       "    }\n",
       "\n",
       "    .dataframe tbody tr th {\n",
       "        vertical-align: top;\n",
       "    }\n",
       "\n",
       "    .dataframe thead th {\n",
       "        text-align: right;\n",
       "    }\n",
       "</style>\n",
       "<table border=\"1\" class=\"dataframe\">\n",
       "  <thead>\n",
       "    <tr style=\"text-align: right;\">\n",
       "      <th></th>\n",
       "      <th>Time</th>\n",
       "      <th>V1</th>\n",
       "      <th>V2</th>\n",
       "      <th>V3</th>\n",
       "      <th>V4</th>\n",
       "      <th>V5</th>\n",
       "      <th>V6</th>\n",
       "      <th>V7</th>\n",
       "      <th>V8</th>\n",
       "      <th>V9</th>\n",
       "      <th>...</th>\n",
       "      <th>V21</th>\n",
       "      <th>V22</th>\n",
       "      <th>V23</th>\n",
       "      <th>V24</th>\n",
       "      <th>V25</th>\n",
       "      <th>V26</th>\n",
       "      <th>V27</th>\n",
       "      <th>V28</th>\n",
       "      <th>Amount</th>\n",
       "      <th>Class</th>\n",
       "    </tr>\n",
       "  </thead>\n",
       "  <tbody>\n",
       "    <tr>\n",
       "      <th>0</th>\n",
       "      <td>0.0</td>\n",
       "      <td>-1.359807</td>\n",
       "      <td>-0.072781</td>\n",
       "      <td>2.536347</td>\n",
       "      <td>1.378155</td>\n",
       "      <td>-0.338321</td>\n",
       "      <td>0.462388</td>\n",
       "      <td>0.239599</td>\n",
       "      <td>0.098698</td>\n",
       "      <td>0.363787</td>\n",
       "      <td>...</td>\n",
       "      <td>-0.018307</td>\n",
       "      <td>0.277838</td>\n",
       "      <td>-0.110474</td>\n",
       "      <td>0.066928</td>\n",
       "      <td>0.128539</td>\n",
       "      <td>-0.189115</td>\n",
       "      <td>0.133558</td>\n",
       "      <td>-0.021053</td>\n",
       "      <td>149.62</td>\n",
       "      <td>0</td>\n",
       "    </tr>\n",
       "    <tr>\n",
       "      <th>1</th>\n",
       "      <td>0.0</td>\n",
       "      <td>1.191857</td>\n",
       "      <td>0.266151</td>\n",
       "      <td>0.166480</td>\n",
       "      <td>0.448154</td>\n",
       "      <td>0.060018</td>\n",
       "      <td>-0.082361</td>\n",
       "      <td>-0.078803</td>\n",
       "      <td>0.085102</td>\n",
       "      <td>-0.255425</td>\n",
       "      <td>...</td>\n",
       "      <td>-0.225775</td>\n",
       "      <td>-0.638672</td>\n",
       "      <td>0.101288</td>\n",
       "      <td>-0.339846</td>\n",
       "      <td>0.167170</td>\n",
       "      <td>0.125895</td>\n",
       "      <td>-0.008983</td>\n",
       "      <td>0.014724</td>\n",
       "      <td>2.69</td>\n",
       "      <td>0</td>\n",
       "    </tr>\n",
       "    <tr>\n",
       "      <th>2</th>\n",
       "      <td>1.0</td>\n",
       "      <td>-1.358354</td>\n",
       "      <td>-1.340163</td>\n",
       "      <td>1.773209</td>\n",
       "      <td>0.379780</td>\n",
       "      <td>-0.503198</td>\n",
       "      <td>1.800499</td>\n",
       "      <td>0.791461</td>\n",
       "      <td>0.247676</td>\n",
       "      <td>-1.514654</td>\n",
       "      <td>...</td>\n",
       "      <td>0.247998</td>\n",
       "      <td>0.771679</td>\n",
       "      <td>0.909412</td>\n",
       "      <td>-0.689281</td>\n",
       "      <td>-0.327642</td>\n",
       "      <td>-0.139097</td>\n",
       "      <td>-0.055353</td>\n",
       "      <td>-0.059752</td>\n",
       "      <td>378.66</td>\n",
       "      <td>0</td>\n",
       "    </tr>\n",
       "    <tr>\n",
       "      <th>3</th>\n",
       "      <td>1.0</td>\n",
       "      <td>-0.966272</td>\n",
       "      <td>-0.185226</td>\n",
       "      <td>1.792993</td>\n",
       "      <td>-0.863291</td>\n",
       "      <td>-0.010309</td>\n",
       "      <td>1.247203</td>\n",
       "      <td>0.237609</td>\n",
       "      <td>0.377436</td>\n",
       "      <td>-1.387024</td>\n",
       "      <td>...</td>\n",
       "      <td>-0.108300</td>\n",
       "      <td>0.005274</td>\n",
       "      <td>-0.190321</td>\n",
       "      <td>-1.175575</td>\n",
       "      <td>0.647376</td>\n",
       "      <td>-0.221929</td>\n",
       "      <td>0.062723</td>\n",
       "      <td>0.061458</td>\n",
       "      <td>123.50</td>\n",
       "      <td>0</td>\n",
       "    </tr>\n",
       "    <tr>\n",
       "      <th>4</th>\n",
       "      <td>2.0</td>\n",
       "      <td>-1.158233</td>\n",
       "      <td>0.877737</td>\n",
       "      <td>1.548718</td>\n",
       "      <td>0.403034</td>\n",
       "      <td>-0.407193</td>\n",
       "      <td>0.095921</td>\n",
       "      <td>0.592941</td>\n",
       "      <td>-0.270533</td>\n",
       "      <td>0.817739</td>\n",
       "      <td>...</td>\n",
       "      <td>-0.009431</td>\n",
       "      <td>0.798278</td>\n",
       "      <td>-0.137458</td>\n",
       "      <td>0.141267</td>\n",
       "      <td>-0.206010</td>\n",
       "      <td>0.502292</td>\n",
       "      <td>0.219422</td>\n",
       "      <td>0.215153</td>\n",
       "      <td>69.99</td>\n",
       "      <td>0</td>\n",
       "    </tr>\n",
       "  </tbody>\n",
       "</table>\n",
       "<p>5 rows × 31 columns</p>\n",
       "</div>"
      ],
      "text/plain": [
       "   Time        V1        V2        V3        V4        V5        V6        V7  \\\n",
       "0   0.0 -1.359807 -0.072781  2.536347  1.378155 -0.338321  0.462388  0.239599   \n",
       "1   0.0  1.191857  0.266151  0.166480  0.448154  0.060018 -0.082361 -0.078803   \n",
       "2   1.0 -1.358354 -1.340163  1.773209  0.379780 -0.503198  1.800499  0.791461   \n",
       "3   1.0 -0.966272 -0.185226  1.792993 -0.863291 -0.010309  1.247203  0.237609   \n",
       "4   2.0 -1.158233  0.877737  1.548718  0.403034 -0.407193  0.095921  0.592941   \n",
       "\n",
       "         V8        V9  ...       V21       V22       V23       V24       V25  \\\n",
       "0  0.098698  0.363787  ... -0.018307  0.277838 -0.110474  0.066928  0.128539   \n",
       "1  0.085102 -0.255425  ... -0.225775 -0.638672  0.101288 -0.339846  0.167170   \n",
       "2  0.247676 -1.514654  ...  0.247998  0.771679  0.909412 -0.689281 -0.327642   \n",
       "3  0.377436 -1.387024  ... -0.108300  0.005274 -0.190321 -1.175575  0.647376   \n",
       "4 -0.270533  0.817739  ... -0.009431  0.798278 -0.137458  0.141267 -0.206010   \n",
       "\n",
       "        V26       V27       V28  Amount  Class  \n",
       "0 -0.189115  0.133558 -0.021053  149.62      0  \n",
       "1  0.125895 -0.008983  0.014724    2.69      0  \n",
       "2 -0.139097 -0.055353 -0.059752  378.66      0  \n",
       "3 -0.221929  0.062723  0.061458  123.50      0  \n",
       "4  0.502292  0.219422  0.215153   69.99      0  \n",
       "\n",
       "[5 rows x 31 columns]"
      ]
     },
     "execution_count": 3,
     "metadata": {},
     "output_type": "execute_result"
    }
   ],
   "source": [
    "#loding Dataset\n",
    "df = pd.read_csv('creditcard.csv')\n",
    "df.head()"
   ]
  },
  {
   "cell_type": "code",
   "execution_count": 4,
   "id": "fa87ff75",
   "metadata": {},
   "outputs": [
    {
     "data": {
      "text/plain": [
       "0    284315\n",
       "1       492\n",
       "Name: Class, dtype: int64"
      ]
     },
     "execution_count": 4,
     "metadata": {},
     "output_type": "execute_result"
    }
   ],
   "source": [
    "df['Class'].value_counts()"
   ]
  },
  {
   "cell_type": "code",
   "execution_count": 5,
   "id": "37414506",
   "metadata": {},
   "outputs": [
    {
     "data": {
      "text/plain": [
       "(284807, 31)"
      ]
     },
     "execution_count": 5,
     "metadata": {},
     "output_type": "execute_result"
    }
   ],
   "source": [
    "df.shape"
   ]
  },
  {
   "cell_type": "markdown",
   "id": "72ceb40e",
   "metadata": {},
   "source": [
    "## Transform dataset  "
   ]
  },
  {
   "cell_type": "code",
   "execution_count": 6,
   "id": "f9164c55",
   "metadata": {},
   "outputs": [],
   "source": [
    "df[\"Amount\"] = StandardScaler().fit_transform(df[\"Amount\"].values.reshape(-1,1))\n",
    "df0 = df.query('Class == 0').sample(20000)\n",
    "df1 = df.query('Class == 1').sample(400)\n",
    "df = pd.concat([df0,df1])"
   ]
  },
  {
   "cell_type": "code",
   "execution_count": 7,
   "id": "48ba3f97",
   "metadata": {},
   "outputs": [],
   "source": [
    "x_train, x_test, y_train, y_test = train_test_split(df.drop(labels=['Time', 'Class'], axis = 1) , df['Class'], test_size=0.2, random_state=42)"
   ]
  },
  {
   "cell_type": "code",
   "execution_count": 8,
   "id": "d733785f",
   "metadata": {},
   "outputs": [
    {
     "name": "stdout",
     "output_type": "stream",
     "text": [
      "Train shape: (16320, 29)\n",
      "Test shape: (4080, 29)\n"
     ]
    }
   ],
   "source": [
    "print(f\"Train shape: {x_train.shape}\")\n",
    "print(f\"Test shape: {x_test.shape}\")"
   ]
  },
  {
   "cell_type": "markdown",
   "id": "454973f8",
   "metadata": {},
   "source": [
    "## Model creation"
   ]
  },
  {
   "cell_type": "code",
   "execution_count": 9,
   "id": "86eeb526",
   "metadata": {},
   "outputs": [
    {
     "name": "stdout",
     "output_type": "stream",
     "text": [
      "Model: \"model\"\n",
      "_________________________________________________________________\n",
      " Layer (type)                Output Shape              Param #   \n",
      "=================================================================\n",
      " input_1 (InputLayer)        [(None, 29)]              0         \n",
      "                                                                 \n",
      " dense (Dense)               (None, 12)                360       \n",
      "                                                                 \n",
      " dense_1 (Dense)             (None, 29)                377       \n",
      "                                                                 \n",
      "=================================================================\n",
      "Total params: 737\n",
      "Trainable params: 737\n",
      "Non-trainable params: 0\n",
      "_________________________________________________________________\n"
     ]
    }
   ],
   "source": [
    "#simple autoencoder\n",
    "logfilename = \"simpleautoencoder\"\n",
    "\n",
    "encoding_dim = 12\n",
    "input_dim = x_train.shape[1]\n",
    "\n",
    "inputArray = Input(shape=(input_dim,))\n",
    "encoded = Dense(encoding_dim, activation='relu')(inputArray)\n",
    "\n",
    "decoded = Dense(input_dim, activation='softmax')(encoded)\n",
    "\n",
    "autoencoder = Model(inputArray, decoded)\n",
    "autoencoder.summary()"
   ]
  },
  {
   "cell_type": "code",
   "execution_count": 10,
   "id": "a60d7b94",
   "metadata": {},
   "outputs": [
    {
     "name": "stdout",
     "output_type": "stream",
     "text": [
      "Model: \"model_1\"\n",
      "_________________________________________________________________\n",
      " Layer (type)                Output Shape              Param #   \n",
      "=================================================================\n",
      " input_2 (InputLayer)        [(None, 29)]              0         \n",
      "                                                                 \n",
      " dense_2 (Dense)             (None, 12)                360       \n",
      "                                                                 \n",
      " dense_3 (Dense)             (None, 29)                377       \n",
      "                                                                 \n",
      "=================================================================\n",
      "Total params: 737\n",
      "Trainable params: 737\n",
      "Non-trainable params: 0\n",
      "_________________________________________________________________\n"
     ]
    }
   ],
   "source": [
    "#sparse autoencoder\n",
    "logfilename = \"sparseautoencoder\"\n",
    "\n",
    "encoding_dim = 12\n",
    "input_dim = x_train.shape[1]\n",
    "\n",
    "inputArray = Input(shape=(input_dim,))\n",
    "encoded = Dense(encoding_dim, activation='relu',\n",
    "               activity_regularizer=regularizers.l1(10e-5))(inputArray)\n",
    "\n",
    "decoded = Dense(input_dim, activation='softmax')(encoded)\n",
    "\n",
    "autoencoder = Model(inputArray, decoded)\n",
    "autoencoder.summary()"
   ]
  },
  {
   "cell_type": "code",
   "execution_count": 11,
   "id": "dbf2bb0c",
   "metadata": {},
   "outputs": [
    {
     "name": "stdout",
     "output_type": "stream",
     "text": [
      "Model: \"model_2\"\n",
      "_________________________________________________________________\n",
      " Layer (type)                Output Shape              Param #   \n",
      "=================================================================\n",
      " input_3 (InputLayer)        [(None, 29)]              0         \n",
      "                                                                 \n",
      " dense_4 (Dense)             (None, 16)                480       \n",
      "                                                                 \n",
      " dense_5 (Dense)             (None, 8)                 136       \n",
      "                                                                 \n",
      " dense_6 (Dense)             (None, 4)                 36        \n",
      "                                                                 \n",
      " dense_7 (Dense)             (None, 8)                 40        \n",
      "                                                                 \n",
      " dense_8 (Dense)             (None, 16)                144       \n",
      "                                                                 \n",
      " dense_9 (Dense)             (None, 29)                493       \n",
      "                                                                 \n",
      "=================================================================\n",
      "Total params: 1,329\n",
      "Trainable params: 1,329\n",
      "Non-trainable params: 0\n",
      "_________________________________________________________________\n"
     ]
    }
   ],
   "source": [
    "#deep autoencoder\n",
    "logfilename = \"deepautoencoder\"\n",
    "\n",
    "encoding_dim = 16\n",
    "input_dim = x_train.shape[1]\n",
    "\n",
    "inputArray = Input(shape=(input_dim,))\n",
    "encoded = Dense(encoding_dim, activation='relu')(inputArray)\n",
    "encoded = Dense(8, activation='relu')(encoded)\n",
    "encoded = Dense(4, activation='relu')(encoded)\n",
    "\n",
    "decoded = Dense(8, activation='relu')(encoded)\n",
    "decoded = Dense(encoding_dim, activation='relu')(decoded)\n",
    "decoded = Dense(input_dim, activation='softmax')(decoded)\n",
    "\n",
    "autoencoder = Model(inputArray, decoded)\n",
    "autoencoder.summary()"
   ]
  },
  {
   "cell_type": "code",
   "execution_count": 12,
   "id": "3074655c",
   "metadata": {},
   "outputs": [],
   "source": [
    "autoencoder.compile(optimizer=RMSprop(), loss='mean_squared_error',metrics=['mae', 'accuracy'])"
   ]
  },
  {
   "cell_type": "code",
   "execution_count": 13,
   "id": "9a18e0eb",
   "metadata": {},
   "outputs": [
    {
     "name": "stdout",
     "output_type": "stream",
     "text": [
      "Epoch 1/20\n",
      "510/510 [==============================] - 6s 8ms/step - loss: 1.4658 - mae: 0.6745 - accuracy: 0.2502 - val_loss: 1.5410 - val_mae: 0.6625 - val_accuracy: 0.4037\n",
      "Epoch 2/20\n",
      "510/510 [==============================] - 4s 7ms/step - loss: 1.4237 - mae: 0.6565 - accuracy: 0.4274 - val_loss: 1.5278 - val_mae: 0.6601 - val_accuracy: 0.4745\n",
      "Epoch 3/20\n",
      "510/510 [==============================] - 3s 6ms/step - loss: 1.4086 - mae: 0.6547 - accuracy: 0.5094 - val_loss: 1.5144 - val_mae: 0.6587 - val_accuracy: 0.5581\n",
      "Epoch 4/20\n",
      "510/510 [==============================] - 4s 7ms/step - loss: 1.4007 - mae: 0.6536 - accuracy: 0.5623 - val_loss: 1.5101 - val_mae: 0.6580 - val_accuracy: 0.5787\n",
      "Epoch 5/20\n",
      "510/510 [==============================] - 4s 8ms/step - loss: 1.3986 - mae: 0.6531 - accuracy: 0.5768 - val_loss: 1.5086 - val_mae: 0.6576 - val_accuracy: 0.5902\n",
      "Epoch 6/20\n",
      "510/510 [==============================] - 4s 8ms/step - loss: 1.3976 - mae: 0.6528 - accuracy: 0.5883 - val_loss: 1.5080 - val_mae: 0.6575 - val_accuracy: 0.5966\n",
      "Epoch 7/20\n",
      "510/510 [==============================] - 4s 8ms/step - loss: 1.3969 - mae: 0.6526 - accuracy: 0.5949 - val_loss: 1.5077 - val_mae: 0.6573 - val_accuracy: 0.6007\n",
      "Epoch 8/20\n",
      "510/510 [==============================] - 4s 8ms/step - loss: 1.3964 - mae: 0.6525 - accuracy: 0.6018 - val_loss: 1.5074 - val_mae: 0.6572 - val_accuracy: 0.6069\n",
      "Epoch 9/20\n",
      "510/510 [==============================] - 4s 7ms/step - loss: 1.3959 - mae: 0.6524 - accuracy: 0.6044 - val_loss: 1.5072 - val_mae: 0.6571 - val_accuracy: 0.6061\n",
      "Epoch 10/20\n",
      "510/510 [==============================] - 3s 6ms/step - loss: 1.3955 - mae: 0.6523 - accuracy: 0.6089 - val_loss: 1.5066 - val_mae: 0.6571 - val_accuracy: 0.6115\n",
      "Epoch 11/20\n",
      "510/510 [==============================] - 4s 7ms/step - loss: 1.3950 - mae: 0.6522 - accuracy: 0.6146 - val_loss: 1.5060 - val_mae: 0.6570 - val_accuracy: 0.6225\n",
      "Epoch 12/20\n",
      "510/510 [==============================] - 5s 10ms/step - loss: 1.3944 - mae: 0.6521 - accuracy: 0.6183 - val_loss: 1.5062 - val_mae: 0.6570 - val_accuracy: 0.6255\n",
      "Epoch 13/20\n",
      "510/510 [==============================] - 4s 9ms/step - loss: 1.3935 - mae: 0.6521 - accuracy: 0.6225 - val_loss: 1.5048 - val_mae: 0.6569 - val_accuracy: 0.6279\n",
      "Epoch 14/20\n",
      "510/510 [==============================] - 4s 9ms/step - loss: 1.3931 - mae: 0.6520 - accuracy: 0.6258 - val_loss: 1.5044 - val_mae: 0.6569 - val_accuracy: 0.6346\n",
      "Epoch 15/20\n",
      "510/510 [==============================] - 4s 7ms/step - loss: 1.3928 - mae: 0.6519 - accuracy: 0.6265 - val_loss: 1.5042 - val_mae: 0.6568 - val_accuracy: 0.6336\n",
      "Epoch 16/20\n",
      "510/510 [==============================] - 4s 8ms/step - loss: 1.3926 - mae: 0.6519 - accuracy: 0.6298 - val_loss: 1.5040 - val_mae: 0.6568 - val_accuracy: 0.6338\n",
      "Epoch 17/20\n",
      "510/510 [==============================] - 4s 8ms/step - loss: 1.3925 - mae: 0.6519 - accuracy: 0.6298 - val_loss: 1.5040 - val_mae: 0.6568 - val_accuracy: 0.6328\n",
      "Epoch 18/20\n",
      "510/510 [==============================] - 4s 8ms/step - loss: 1.3924 - mae: 0.6519 - accuracy: 0.6320 - val_loss: 1.5038 - val_mae: 0.6568 - val_accuracy: 0.6382\n",
      "Epoch 19/20\n",
      "510/510 [==============================] - 5s 9ms/step - loss: 1.3924 - mae: 0.6519 - accuracy: 0.6318 - val_loss: 1.5038 - val_mae: 0.6568 - val_accuracy: 0.6326\n",
      "Epoch 20/20\n",
      "510/510 [==============================] - 5s 10ms/step - loss: 1.3923 - mae: 0.6518 - accuracy: 0.6324 - val_loss: 1.5038 - val_mae: 0.6567 - val_accuracy: 0.6324\n"
     ]
    }
   ],
   "source": [
    "batch_size = 32\n",
    "epochs = 20\n",
    "\n",
    "history = autoencoder.fit(x_train, x_train,\n",
    "                    batch_size=batch_size,\n",
    "                    epochs=epochs,\n",
    "                    verbose=1,\n",
    "                    shuffle=True,\n",
    "                    validation_data=(x_test, x_test),\n",
    "                    callbacks=[TensorBoard(log_dir='../logs/{0}'.format(logfilename))])"
   ]
  },
  {
   "cell_type": "code",
   "execution_count": 14,
   "id": "a54996a3",
   "metadata": {},
   "outputs": [
    {
     "name": "stdout",
     "output_type": "stream",
     "text": [
      "128/128 [==============================] - 1s 4ms/step - loss: 1.5038 - mae: 0.6567 - accuracy: 0.6324\n",
      "Test loss: 1.5038200616836548\n",
      "Test accuracy: 0.6567485928535461\n"
     ]
    }
   ],
   "source": [
    "score = autoencoder.evaluate(x_test, x_test, verbose=1)\n",
    "print('Test loss:', score[0])\n",
    "print('Test accuracy:', score[1])"
   ]
  },
  {
   "cell_type": "code",
   "execution_count": 15,
   "id": "336df513",
   "metadata": {},
   "outputs": [
    {
     "name": "stdout",
     "output_type": "stream",
     "text": [
      "128/128 [==============================] - 1s 3ms/step\n"
     ]
    }
   ],
   "source": [
    "threshold=15.00\n",
    "y_pred = autoencoder.predict(x_test)\n",
    "y_dist = np.linalg.norm(x_test - y_pred, axis=-1)\n",
    "z = zip(y_dist >= threshold, y_dist)\n",
    "y_label=[]\n",
    "error = []\n",
    "for idx, (is_anomaly, y_dist) in enumerate(z):\n",
    "    if is_anomaly:\n",
    "        y_label.append(1)\n",
    "    else:\n",
    "        y_label.append(0)\n",
    "    error.append(y_dist)"
   ]
  },
  {
   "cell_type": "code",
   "execution_count": 16,
   "id": "3a6106cc",
   "metadata": {},
   "outputs": [
    {
     "name": "stdout",
     "output_type": "stream",
     "text": [
      "              precision    recall  f1-score   support\n",
      "\n",
      "           0       0.99      0.99      0.99      3987\n",
      "           1       0.65      0.69      0.67        93\n",
      "\n",
      "    accuracy                           0.98      4080\n",
      "   macro avg       0.82      0.84      0.83      4080\n",
      "weighted avg       0.98      0.98      0.98      4080\n",
      "\n"
     ]
    }
   ],
   "source": [
    "print(classification_report(y_test,y_label))"
   ]
  },
  {
   "cell_type": "code",
   "execution_count": 17,
   "id": "d1182edd",
   "metadata": {},
   "outputs": [
    {
     "data": {
      "text/plain": [
       "0.8398221639683812"
      ]
     },
     "execution_count": 17,
     "metadata": {},
     "output_type": "execute_result"
    }
   ],
   "source": [
    "roc_auc_score(y_test, y_label)"
   ]
  },
  {
   "cell_type": "code",
   "execution_count": 18,
   "id": "196c195d",
   "metadata": {},
   "outputs": [
    {
     "data": {
      "image/png": "[encoded data removed]",
      "text/plain": [
       "<Figure size 1000x800 with 2 Axes>"
      ]
     },
     "metadata": {},
     "output_type": "display_data"
    }
   ],
   "source": [
    "viz = Visualization()\n",
    "\n",
    "viz.draw_confusion_matrix(y_test, y_label)"
   ]
  },
  {
   "cell_type": "code",
   "execution_count": 19,
   "id": "f8e16fa9",
   "metadata": {},
   "outputs": [
    {
     "data": {
      "image/png": "[encoded data removed]",
      "text/plain": [
       "<Figure size 1200x800 with 1 Axes>"
      ]
     },
     "metadata": {},
     "output_type": "display_data"
    }
   ],
   "source": [
    "viz.draw_anomaly(y_test, error, threshold)"
   ]
  },
  {
   "cell_type": "code",
   "execution_count": null,
   "id": "9b216df9",
   "metadata": {},
   "outputs": [],
   "source": []
  }
 ],
 "metadata": {
  "kernelspec": {
   "display_name": "Python 3 (ipykernel)",
   "language": "python",
   "name": "python3"
  },
  "language_info": {
   "codemirror_mode": {
    "name": "ipython",
    "version": 3
   },
   "file_extension": ".py",
   "mimetype": "text/x-python",
   "name": "python",
   "nbconvert_exporter": "python",
   "pygments_lexer": "ipython3",
   "version": "3.10.9"
  }
 },
 "nbformat": 4,
 "nbformat_minor": 5
}
